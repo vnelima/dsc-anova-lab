{
 "cells": [
  {
   "cell_type": "markdown",
   "id": "249fc19b",
   "metadata": {},
   "source": [
    "# ANOVA Test: Analysis of Variance\n",
    "\n",
    "## 1. Introduction to ANOVA\n",
    "\n",
    "**Objective:** Understand when and why to use ANOVA.\n",
    "\n",
    "**Definition:** ANOVA (Analysis of Variance) helps determine if there are statistically significant differences between the means of three or more independent groups.\n",
    "\n",
    "**Use Case Examples:** \n",
    "- Testing different teaching methods' effectiveness.\n",
    "- Comparing means of sales across regions.\n",
    "- Medical studies comparing drug effects across multiple groups.\n"
   ]
  },
  {
   "cell_type": "markdown",
   "id": "325145b1",
   "metadata": {},
   "source": [
    "## 2. Key Concepts in ANOVA\n",
    "\n",
    "- **Hypotheses:**\n",
    "  - **Null Hypothesis (H₀):** All group means are equal.\n",
    "  - **Alternative Hypothesis (H₁):** At least one group mean is different.\n",
    "- **Assumptions of ANOVA:**\n",
    "  - Independence of observations.\n",
    "  - Normally distributed groups.\n",
    "  - Homogeneity of variances across groups.\n"
   ]
  },
  {
   "cell_type": "code",
   "execution_count": 11,
   "id": "ecb27011",
   "metadata": {},
   "outputs": [
    {
     "data": {
      "text/html": [
       "<div>\n",
       "<style scoped>\n",
       "    .dataframe tbody tr th:only-of-type {\n",
       "        vertical-align: middle;\n",
       "    }\n",
       "\n",
       "    .dataframe tbody tr th {\n",
       "        vertical-align: top;\n",
       "    }\n",
       "\n",
       "    .dataframe thead th {\n",
       "        text-align: right;\n",
       "    }\n",
       "</style>\n",
       "<table border=\"1\" class=\"dataframe\">\n",
       "  <thead>\n",
       "    <tr style=\"text-align: right;\">\n",
       "      <th></th>\n",
       "      <th>Score</th>\n",
       "      <th>Group</th>\n",
       "    </tr>\n",
       "  </thead>\n",
       "  <tbody>\n",
       "    <tr>\n",
       "      <th>0</th>\n",
       "      <td>54.967142</td>\n",
       "      <td>A</td>\n",
       "    </tr>\n",
       "    <tr>\n",
       "      <th>1</th>\n",
       "      <td>48.617357</td>\n",
       "      <td>A</td>\n",
       "    </tr>\n",
       "    <tr>\n",
       "      <th>2</th>\n",
       "      <td>56.476885</td>\n",
       "      <td>A</td>\n",
       "    </tr>\n",
       "    <tr>\n",
       "      <th>3</th>\n",
       "      <td>65.230299</td>\n",
       "      <td>A</td>\n",
       "    </tr>\n",
       "    <tr>\n",
       "      <th>4</th>\n",
       "      <td>47.658466</td>\n",
       "      <td>A</td>\n",
       "    </tr>\n",
       "    <tr>\n",
       "      <th>5</th>\n",
       "      <td>47.658630</td>\n",
       "      <td>A</td>\n",
       "    </tr>\n",
       "    <tr>\n",
       "      <th>6</th>\n",
       "      <td>65.792128</td>\n",
       "      <td>A</td>\n",
       "    </tr>\n",
       "    <tr>\n",
       "      <th>7</th>\n",
       "      <td>57.674347</td>\n",
       "      <td>A</td>\n",
       "    </tr>\n",
       "    <tr>\n",
       "      <th>8</th>\n",
       "      <td>45.305256</td>\n",
       "      <td>A</td>\n",
       "    </tr>\n",
       "    <tr>\n",
       "      <th>9</th>\n",
       "      <td>55.425600</td>\n",
       "      <td>A</td>\n",
       "    </tr>\n",
       "    <tr>\n",
       "      <th>10</th>\n",
       "      <td>45.365823</td>\n",
       "      <td>A</td>\n",
       "    </tr>\n",
       "    <tr>\n",
       "      <th>11</th>\n",
       "      <td>45.342702</td>\n",
       "      <td>A</td>\n",
       "    </tr>\n",
       "    <tr>\n",
       "      <th>12</th>\n",
       "      <td>52.419623</td>\n",
       "      <td>A</td>\n",
       "    </tr>\n",
       "    <tr>\n",
       "      <th>13</th>\n",
       "      <td>30.867198</td>\n",
       "      <td>A</td>\n",
       "    </tr>\n",
       "    <tr>\n",
       "      <th>14</th>\n",
       "      <td>32.750822</td>\n",
       "      <td>A</td>\n",
       "    </tr>\n",
       "    <tr>\n",
       "      <th>15</th>\n",
       "      <td>44.377125</td>\n",
       "      <td>A</td>\n",
       "    </tr>\n",
       "    <tr>\n",
       "      <th>16</th>\n",
       "      <td>39.871689</td>\n",
       "      <td>A</td>\n",
       "    </tr>\n",
       "    <tr>\n",
       "      <th>17</th>\n",
       "      <td>53.142473</td>\n",
       "      <td>A</td>\n",
       "    </tr>\n",
       "    <tr>\n",
       "      <th>18</th>\n",
       "      <td>40.919759</td>\n",
       "      <td>A</td>\n",
       "    </tr>\n",
       "    <tr>\n",
       "      <th>19</th>\n",
       "      <td>35.876963</td>\n",
       "      <td>A</td>\n",
       "    </tr>\n",
       "  </tbody>\n",
       "</table>\n",
       "</div>"
      ],
      "text/plain": [
       "        Score Group\n",
       "0   54.967142     A\n",
       "1   48.617357     A\n",
       "2   56.476885     A\n",
       "3   65.230299     A\n",
       "4   47.658466     A\n",
       "5   47.658630     A\n",
       "6   65.792128     A\n",
       "7   57.674347     A\n",
       "8   45.305256     A\n",
       "9   55.425600     A\n",
       "10  45.365823     A\n",
       "11  45.342702     A\n",
       "12  52.419623     A\n",
       "13  30.867198     A\n",
       "14  32.750822     A\n",
       "15  44.377125     A\n",
       "16  39.871689     A\n",
       "17  53.142473     A\n",
       "18  40.919759     A\n",
       "19  35.876963     A"
      ]
     },
     "execution_count": 11,
     "metadata": {},
     "output_type": "execute_result"
    }
   ],
   "source": [
    "import pandas as pd\n",
    "import numpy as np\n",
    "import seaborn as sns\n",
    "import matplotlib.pyplot as plt\n",
    "from scipy.stats import f_oneway, levene, shapiro\n",
    "from statsmodels.stats.multicomp import pairwise_tukeyhsd\n",
    "\n",
    "# Generate example data\n",
    "np.random.seed(42)\n",
    "group_A = np.random.normal(50, 10, 30)\n",
    "group_B = np.random.normal(55, 10, 30)\n",
    "group_C = np.random.normal(60, 10, 30)\n",
    "\n",
    "# Combine into DataFrame\n",
    "data = pd.DataFrame({\n",
    "    'Score': np.concatenate([group_A, group_B, group_C]),\n",
    "    'Group': ['A']*30 + ['B']*30 + ['C']*30\n",
    "})\n",
    "data.head(20)\n"
   ]
  },
  {
   "cell_type": "code",
   "execution_count": 12,
   "id": "8b8b60eb",
   "metadata": {},
   "outputs": [
    {
     "data": {
      "image/png": "[encoded data removed]",
      "text/plain": [
       "<Figure size 640x480 with 1 Axes>"
      ]
     },
     "metadata": {},
     "output_type": "display_data"
    }
   ],
   "source": [
    "# Descriptive Statistics\n",
    "data.groupby('Group').describe()\n",
    "\n",
    "# Visualization\n",
    "sns.boxplot(x='Group', y='Score', data=data)\n",
    "plt.title(\"Box Plot of Scores by Group\")\n",
    "plt.show()\n"
   ]
  },
  {
   "cell_type": "markdown",
   "id": "febc7a98",
   "metadata": {},
   "source": [
    "**Interpretation:** The box plot allows us to visually inspect the distribution of scores across each group. If the medians and spreads vary significantly, it may indicate a difference in group means, which we can test with ANOVA.\n"
   ]
  },
  {
   "cell_type": "code",
   "execution_count": 13,
   "id": "a3def010",
   "metadata": {},
   "outputs": [
    {
     "data": {
      "text/plain": [
       "F_onewayResult(statistic=12.20952551797281, pvalue=2.1200748140507085e-05)"
      ]
     },
     "execution_count": 13,
     "metadata": {},
     "output_type": "execute_result"
    }
   ],
   "source": [
    "Results= f_oneway(data[data['Group'] == 'A']['Score'],\n",
    "                           data[data['Group'] == 'B']['Score'],\n",
    "                           data[data['Group'] == 'C']['Score'])\n",
    "\n",
    "Results\n"
   ]
  },
  {
   "cell_type": "code",
   "execution_count": 20,
   "id": "83147e51",
   "metadata": {},
   "outputs": [
    {
     "name": "stdout",
     "output_type": "stream",
     "text": [
      "F-statistic: 12.20952551797281\n",
      "p-value: 2.1200748140507085e-05\n"
     ]
    }
   ],
   "source": [
    "F_stat, p_value = Results[0], Results[1]\n",
    "print(\"F-statistic:\", F_stat)\n",
    "print(\"p-value:\", p_value)\n"
   ]
  },
  {
   "cell_type": "markdown",
   "id": "b5beffea",
   "metadata": {},
   "source": [
    "# Performing ANOVA using OLS (Ordinary Least Squares) method"
   ]
  },
  {
   "cell_type": "code",
   "execution_count": 15,
   "id": "4c5bbc1c",
   "metadata": {},
   "outputs": [
    {
     "name": "stdout",
     "output_type": "stream",
     "text": [
      "               sum_sq    df          F    PR(>F)\n",
      "C(Group)  2165.964313   2.0  12.209526  0.000021\n",
      "Residual  7716.880356  87.0        NaN       NaN\n"
     ]
    }
   ],
   "source": [
    "# Performing ANOVA using OLS (Ordinary Least Squares) method\n",
    "import statsmodels.api as sm\n",
    "from statsmodels.formula.api import ols\n",
    "\n",
    "# Example OLS model for One-Way ANOVA\n",
    "formula = 'Score ~ C(Group)'\n",
    "lm = ols(formula, data).fit()\n",
    "table = sm.stats.anova_lm(lm, typ=2)\n",
    "print(table)\n"
   ]
  },
  {
   "cell_type": "markdown",
   "id": "9a697f64",
   "metadata": {},
   "source": [
    "**Interpretation:**\n",
    "\n",
    "- The **F-statistic** represents the ratio of variance between the groups to the variance within the groups. A higher F-statistic suggests greater disparity between group means.\n",
    "- The **p-value** indicates the likelihood that the observed differences are due to random chance. A p-value below our significance threshold (e.g., 0.05) leads us to reject the null hypothesis, concluding that at least one group mean differs significantly.\n"
   ]
  }
 ],
 "metadata": {
  "kernelspec": {
   "display_name": "Python (learn-env)",
   "language": "python",
   "name": "learn-env"
  },
  "language_info": {
   "codemirror_mode": {
    "name": "ipython",
    "version": 3
   },
   "file_extension": ".py",
   "mimetype": "text/x-python",
   "name": "python",
   "nbconvert_exporter": "python",
   "pygments_lexer": "ipython3",
   "version": "3.8.5"
  }
 },
 "nbformat": 4,
 "nbformat_minor": 5
}
